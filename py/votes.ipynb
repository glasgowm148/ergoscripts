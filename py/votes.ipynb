{
 "cells": [
  {
   "cell_type": "code",
   "execution_count": 13,
   "metadata": {},
   "outputs": [
    {
     "name": "stdout",
     "output_type": "stream",
     "text": [
      "Requirement already satisfied: pandas in /Library/Frameworks/Python.framework/Versions/3.10/lib/python3.10/site-packages (1.4.4)\n",
      "Requirement already satisfied: pytz>=2020.1 in /Library/Frameworks/Python.framework/Versions/3.10/lib/python3.10/site-packages (from pandas) (2022.2.1)\n",
      "Requirement already satisfied: python-dateutil>=2.8.1 in /Library/Frameworks/Python.framework/Versions/3.10/lib/python3.10/site-packages (from pandas) (2.8.2)\n",
      "Requirement already satisfied: numpy>=1.21.0 in /Library/Frameworks/Python.framework/Versions/3.10/lib/python3.10/site-packages (from pandas) (1.23.3)\n",
      "Requirement already satisfied: six>=1.5 in /Library/Frameworks/Python.framework/Versions/3.10/lib/python3.10/site-packages (from python-dateutil>=2.8.1->pandas) (1.16.0)\n"
     ]
    }
   ],
   "source": [
    "#!pip install pandas\n",
    "import pandas as pd\n",
    "import requests\n",
    "pd.set_option('display.float_format', lambda x: '%.3f' % x)\n",
    "pd.options.display.max_rows = 999"
   ]
  },
  {
   "cell_type": "code",
   "execution_count": 14,
   "metadata": {},
   "outputs": [],
   "source": [
    "import requests\n",
    "\n",
    "url = 'https://api.ergoplatform.com/api/v1/blocks/?limit=100&offset=0'\n",
    "#url = 'http://127.0.0.1:9053/blocks?limit=100&offset=0'\n",
    "r = requests.get(url)\n",
    "\n",
    "json = r.json()\n"
   ]
  },
  {
   "cell_type": "code",
   "execution_count": 15,
   "metadata": {},
   "outputs": [
    {
     "data": {
      "text/plain": [
       "dict_keys(['items', 'total'])"
      ]
     },
     "execution_count": 15,
     "metadata": {},
     "output_type": "execute_result"
    }
   ],
   "source": [
    "# Query the json directly\n",
    "\n",
    "json.keys()\n",
    "#json['items']\n",
    "#json['total']\n",
    "#json"
   ]
  },
  {
   "cell_type": "code",
   "execution_count": 16,
   "metadata": {},
   "outputs": [
    {
     "name": "stdout",
     "output_type": "stream",
     "text": [
      "Vote set\n",
      "842711 epoch 822 ==yes\n",
      "842710 epoch 822 ==yes\n",
      "842709 epoch 822 ==yes\n",
      "842708 epoch 822 ==yes\n",
      "842707 epoch 822 ==yes\n",
      "842706 epoch 822 ==yes\n",
      "842705 epoch 822 ==yes\n",
      "842704 epoch 822 ==yes\n",
      "842703 epoch 822 ==yes\n",
      "842702 epoch 822 ==yes\n",
      "842701 epoch 822 ==yes\n",
      "842700 epoch 822 ==yes\n",
      "842699 epoch 822 ==yes\n",
      "842698 epoch 822 ==yes\n",
      "842697 epoch 822 ==no\n",
      "842696 epoch 822 ==yes\n",
      "842695 epoch 822 ==yes\n",
      "842694 epoch 822 ==yes\n",
      "842693 epoch 822 ==yes\n",
      "842692 epoch 822 ==yes\n",
      "842691 epoch 822 ==yes\n",
      "842690 epoch 822 ==yes\n",
      "842689 epoch 822 ==yes\n",
      "842688 epoch 822 ==yes\n",
      "842687 epoch 822 ==yes\n",
      "842686 epoch 822 ==yes\n",
      "842685 epoch 822 ==yes\n",
      "842684 epoch 822 ==yes\n",
      "842683 epoch 822 ==yes\n",
      "842682 epoch 822 ==yes\n",
      "842681 epoch 822 ==yes\n",
      "842680 epoch 822 ==yes\n",
      "842679 epoch 822 ==yes\n",
      "842678 epoch 822 ==yes\n",
      "842677 epoch 822 ==yes\n",
      "842676 epoch 822 ==yes\n",
      "842675 epoch 822 ==yes\n",
      "842674 epoch 822 ==yes\n",
      "842673 epoch 822 ==yes\n",
      "842672 epoch 822 ==yes\n",
      "842671 epoch 822 ==yes\n",
      "842670 epoch 822 ==yes\n",
      "842669 epoch 822 ==yes\n",
      "842668 epoch 822 ==yes\n",
      "842667 epoch 822 ==yes\n",
      "842666 epoch 822 ==yes\n",
      "842665 epoch 822 ==yes\n",
      "842664 epoch 822 ==yes\n",
      "842663 epoch 822 ==yes\n",
      "842662 epoch 822 ==yes\n",
      "842661 epoch 822 ==yes\n",
      "842660 epoch 822 ==yes\n",
      "842659 epoch 822 ==yes\n",
      "842658 epoch 822 ==yes\n",
      "842657 epoch 822 ==yes\n",
      "842656 epoch 822 ==yes\n",
      "842655 epoch 822 ==yes\n",
      "842654 epoch 822 ==yes\n",
      "842653 epoch 822 ==yes\n",
      "842652 epoch 822 ==yes\n",
      "842651 epoch 822 ==yes\n",
      "842650 epoch 822 ==yes\n",
      "842649 epoch 822 ==yes\n",
      "842648 epoch 822 ==yes\n",
      "842647 epoch 822 ==yes\n",
      "842646 epoch 822 ==yes\n",
      "842645 epoch 822 ==yes\n",
      "842644 epoch 822 ==yes\n",
      "842643 epoch 822 ==yes\n",
      "842642 epoch 822 ==yes\n",
      "842641 epoch 822 ==yes\n",
      "842640 epoch 822 ==yes\n",
      "842639 epoch 822 ==yes\n",
      "842638 epoch 822 ==yes\n",
      "842637 epoch 822 ==yes\n",
      "842636 epoch 822 ==yes\n",
      "842635 epoch 822 ==yes\n",
      "842634 epoch 822 ==yes\n",
      "842633 epoch 822 ==yes\n",
      "842632 epoch 822 ==yes\n",
      "842631 epoch 822 ==no\n",
      "842630 epoch 822 ==yes\n",
      "842629 epoch 822 ==yes\n",
      "842628 epoch 822 ==no\n",
      "842627 epoch 822 ==yes\n",
      "842626 epoch 822 ==yes\n",
      "842625 epoch 822 ==no\n",
      "842624 epoch 822 ==yes\n",
      "842623 epoch 822 ==yes\n",
      "842622 epoch 822 ==yes\n",
      "842621 epoch 822 ==yes\n",
      "842620 epoch 822 ==yes\n",
      "842619 epoch 822 ==yes\n",
      "842618 epoch 822 ==yes\n",
      "842617 epoch 822 ==yes\n",
      "842616 epoch 822 ==yes\n",
      "842615 epoch 822 ==yes\n",
      "842614 epoch 822 ==yes\n",
      "842613 epoch 822 ==yes\n",
      "842612 epoch 822 ==yes\n",
      "Yes: 96\n",
      "No: 4\n"
     ]
    }
   ],
   "source": [
    "# load json into a dataframe\n",
    "df = pd.DataFrame(json['items'])\n",
    "df['id']\n",
    "\n",
    "yes = 0\n",
    "no = 0\n",
    "\n",
    "print('Vote set')\n",
    "for id in df['id']:\n",
    "    url = 'https://api.ergoplatform.com/api/v1/blocks/'+id\n",
    "    r = requests.get(url)\n",
    "    vote_blocks = r.json()\n",
    "    df2 = pd.DataFrame(vote_blocks)\n",
    "    vote = df2['block'][0]['votes']\n",
    "    \n",
    "    if vote[0] == 8:\n",
    "        print(df2['block'][0]['height'], 'epoch', df2['block'][0]['epoch'], \"==yes\")\n",
    "        yes += 1\n",
    "        \n",
    "    else:\n",
    "        print(df2['block'][0]['height'], 'epoch', df2['block'][0]['epoch'], \"==no\")\n",
    "        no += 1\n",
    "        \n",
    "print('Yes:', yes)\n",
    "print('No:', no)\n"
   ]
  },
  {
   "cell_type": "code",
   "execution_count": 17,
   "metadata": {},
   "outputs": [
    {
     "data": {
      "text/html": [
       "<div>\n",
       "<style scoped>\n",
       "    .dataframe tbody tr th:only-of-type {\n",
       "        vertical-align: middle;\n",
       "    }\n",
       "\n",
       "    .dataframe tbody tr th {\n",
       "        vertical-align: top;\n",
       "    }\n",
       "\n",
       "    .dataframe thead th {\n",
       "        text-align: right;\n",
       "    }\n",
       "</style>\n",
       "<table border=\"1\" class=\"dataframe\">\n",
       "  <thead>\n",
       "    <tr style=\"text-align: right;\">\n",
       "      <th></th>\n",
       "      <th>block</th>\n",
       "      <th>references</th>\n",
       "    </tr>\n",
       "  </thead>\n",
       "  <tbody>\n",
       "    <tr>\n",
       "      <th>header</th>\n",
       "      <td>{'id': 'd0d7aaef8ee7b8a5440d63dd086891a535ec8b...</td>\n",
       "      <td>NaN</td>\n",
       "    </tr>\n",
       "    <tr>\n",
       "      <th>blockTransactions</th>\n",
       "      <td>[{'id': '9138f305a1d6365c018c2d64fad78a861ff64...</td>\n",
       "      <td>NaN</td>\n",
       "    </tr>\n",
       "    <tr>\n",
       "      <th>extension</th>\n",
       "      <td>{'headerId': 'd0d7aaef8ee7b8a5440d63dd086891a5...</td>\n",
       "      <td>NaN</td>\n",
       "    </tr>\n",
       "    <tr>\n",
       "      <th>adProofs</th>\n",
       "      <td>03a3ddf87d4acb11c8bf76ec45b9e28951b6f3604a38ef...</td>\n",
       "      <td>NaN</td>\n",
       "    </tr>\n",
       "    <tr>\n",
       "      <th>previousId</th>\n",
       "      <td>NaN</td>\n",
       "      <td>8f8b5b7c33faa33f6c88bf02e23a165a111aff2e195482...</td>\n",
       "    </tr>\n",
       "    <tr>\n",
       "      <th>nextId</th>\n",
       "      <td>NaN</td>\n",
       "      <td>9915efa4b5f42ce28c0c3882e2ce4e5141c791554eff6e...</td>\n",
       "    </tr>\n",
       "  </tbody>\n",
       "</table>\n",
       "</div>"
      ],
      "text/plain": [
       "                                                               block  \\\n",
       "header             {'id': 'd0d7aaef8ee7b8a5440d63dd086891a535ec8b...   \n",
       "blockTransactions  [{'id': '9138f305a1d6365c018c2d64fad78a861ff64...   \n",
       "extension          {'headerId': 'd0d7aaef8ee7b8a5440d63dd086891a5...   \n",
       "adProofs           03a3ddf87d4acb11c8bf76ec45b9e28951b6f3604a38ef...   \n",
       "previousId                                                       NaN   \n",
       "nextId                                                           NaN   \n",
       "\n",
       "                                                          references  \n",
       "header                                                           NaN  \n",
       "blockTransactions                                                NaN  \n",
       "extension                                                        NaN  \n",
       "adProofs                                                         NaN  \n",
       "previousId         8f8b5b7c33faa33f6c88bf02e23a165a111aff2e195482...  \n",
       "nextId             9915efa4b5f42ce28c0c3882e2ce4e5141c791554eff6e...  "
      ]
     },
     "execution_count": 17,
     "metadata": {},
     "output_type": "execute_result"
    }
   ],
   "source": [
    "df2['block'][0]['epoch']\n",
    "df2\n"
   ]
  },
  {
   "cell_type": "code",
   "execution_count": null,
   "metadata": {},
   "outputs": [],
   "source": []
  }
 ],
 "metadata": {
  "kernelspec": {
   "display_name": "Python 3.10.5 64-bit",
   "language": "python",
   "name": "python3"
  },
  "language_info": {
   "codemirror_mode": {
    "name": "ipython",
    "version": 3
   },
   "file_extension": ".py",
   "mimetype": "text/x-python",
   "name": "python",
   "nbconvert_exporter": "python",
   "pygments_lexer": "ipython3",
   "version": "3.10.5"
  },
  "orig_nbformat": 4,
  "vscode": {
   "interpreter": {
    "hash": "aee8b7b246df8f9039afb4144a1f6fd8d2ca17a180786b69acc140d282b71a49"
   }
  }
 },
 "nbformat": 4,
 "nbformat_minor": 2
}
