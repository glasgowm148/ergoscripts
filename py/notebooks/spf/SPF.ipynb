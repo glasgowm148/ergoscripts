{
 "cells": [
  {
   "cell_type": "code",
   "execution_count": 1,
   "metadata": {},
   "outputs": [],
   "source": [
    "#!pip3 install pandas\n",
    "import pandas as pd\n",
    "import requests\n",
    "pd.set_option('display.float_format', lambda x: '%.3f' % x)\n",
    "pd.options.display.max_rows = 999"
   ]
  },
  {
   "cell_type": "code",
   "execution_count": 2,
   "metadata": {},
   "outputs": [
    {
     "name": "stdout",
     "output_type": "stream",
     "text": [
      "Total SPF from LP: 268738.314845\n"
     ]
    }
   ],
   "source": [
    "import requests\n",
    "\n",
    "addr = ['',\n",
    "                 ]\n",
    "\n",
    "total_spf = 0\n",
    "for i in addr:\n",
    "    url = 'https://airdrop.spectrum.fi/v1/airdrop/lq/provider?address='+i\n",
    "    r = requests.get(url)\n",
    "    json = r.json()\n",
    "    if json['totalSpfReward'] > 0:\n",
    "    #   print(json)\n",
    "        #print(json['pools'])\n",
    "        #for x in json['pools']:\n",
    "         #   print(x)\n",
    "        #print(json['address'], \"{\", 'SpfReward' , json['totalSpfReward'] , \"}\", \"{\", 'totalErgValue',  json['totalErgValue'], \"}\", \n",
    "         #           \"{\", 'totalTime',  json['totalTime'], \"}\",\n",
    "         #            \"{\", 'totalOps',  json['totalOps'], \"}\" )\n",
    "        total_spf += json['totalSpfReward']\n",
    "   \n",
    "    \n",
    "print('Total SPF from LP:', total_spf)"
   ]
  },
  {
   "cell_type": "code",
   "execution_count": 7,
   "metadata": {},
   "outputs": [
    {
     "name": "stdout",
     "output_type": "stream",
     "text": [
      "{'ergValue': 1, 'spfResult': 0.504747, 'swapsCount': 1}\n",
      "{'what': 'SwapsStats{address=9fNZuTFXEV8ELfsgjA9zk8vhCf5xxkS4EUCQbNNcBAk12pJ6wDP}'}\n"
     ]
    },
    {
     "ename": "KeyError",
     "evalue": "'ergValue'",
     "output_type": "error",
     "traceback": [
      "\u001b[0;31m---------------------------------------------------------------------------\u001b[0m",
      "\u001b[0;31mKeyError\u001b[0m                                  Traceback (most recent call last)",
      "\u001b[1;32m/Users/m/Documents/GitHub/ergoscripts/py/SPF.ipynb Cell 3\u001b[0m in \u001b[0;36m<cell line: 2>\u001b[0;34m()\u001b[0m\n\u001b[1;32m      <a href='vscode-notebook-cell:/Users/m/Documents/GitHub/ergoscripts/py/SPF.ipynb#W2sZmlsZQ%3D%3D?line=4'>5</a>\u001b[0m json \u001b[39m=\u001b[39m r\u001b[39m.\u001b[39mjson()\n\u001b[1;32m      <a href='vscode-notebook-cell:/Users/m/Documents/GitHub/ergoscripts/py/SPF.ipynb#W2sZmlsZQ%3D%3D?line=5'>6</a>\u001b[0m \u001b[39mprint\u001b[39m(json)\n\u001b[0;32m----> <a href='vscode-notebook-cell:/Users/m/Documents/GitHub/ergoscripts/py/SPF.ipynb#W2sZmlsZQ%3D%3D?line=6'>7</a>\u001b[0m \u001b[39mif\u001b[39;00m json[\u001b[39m'\u001b[39;49m\u001b[39mergValue\u001b[39;49m\u001b[39m'\u001b[39;49m] \u001b[39m>\u001b[39m \u001b[39m0\u001b[39m:\n\u001b[1;32m      <a href='vscode-notebook-cell:/Users/m/Documents/GitHub/ergoscripts/py/SPF.ipynb#W2sZmlsZQ%3D%3D?line=7'>8</a>\u001b[0m     total_spf_trade \u001b[39m+\u001b[39m\u001b[39m=\u001b[39m json[\u001b[39m'\u001b[39m\u001b[39mspfResult\u001b[39m\u001b[39m'\u001b[39m]\n\u001b[1;32m      <a href='vscode-notebook-cell:/Users/m/Documents/GitHub/ergoscripts/py/SPF.ipynb#W2sZmlsZQ%3D%3D?line=8'>9</a>\u001b[0m  \u001b[39m#   print(json)\u001b[39;00m\n\u001b[1;32m     <a href='vscode-notebook-cell:/Users/m/Documents/GitHub/ergoscripts/py/SPF.ipynb#W2sZmlsZQ%3D%3D?line=9'>10</a>\u001b[0m \u001b[39m#print(json['spfResult'])\u001b[39;00m\n",
      "\u001b[0;31mKeyError\u001b[0m: 'ergValue'"
     ]
    }
   ],
   "source": [
    "total_spf_trade = 0\n",
    "for i in addr:\n",
    "    url = 'https://airdrop.spectrum.fi/v1/airdrop/traders?address='+i\n",
    "    r = requests.get(url)\n",
    "    json = r.json()\n",
    "    print(json)\n",
    "    if json['spfResult'] > 0:\n",
    "        total_spf_trade += json['spfResult']\n",
    "     #   print(json)\n",
    "    #print(json['spfResult'])\n",
    "print('Total SPF from trades:', total_spf_trade)"
   ]
  },
  {
   "cell_type": "code",
   "execution_count": null,
   "metadata": {},
   "outputs": [
    {
     "name": "stdout",
     "output_type": "stream",
     "text": [
      "Total SPF from beta: 1000\n"
     ]
    }
   ],
   "source": [
    "total_spf_beta = 0\n",
    "for i in addr:\n",
    "    url = 'https://airdrop.spectrum.fi/v1/airdrop/beta/tester?address='+i\n",
    "    r = requests.get(url)\n",
    "    json = r.json()\n",
    "    #print(json)\n",
    "    \n",
    "    if json['spfResult'] > 0:\n",
    "        #print(json)\n",
    "        total_spf_beta += json['spfResult']\n",
    "    #print(json['reward'])\n",
    "print('Total SPF from beta:', total_spf_beta)"
   ]
  },
  {
   "cell_type": "code",
   "execution_count": null,
   "metadata": {},
   "outputs": [],
   "source": []
  },
  {
   "cell_type": "code",
   "execution_count": null,
   "metadata": {},
   "outputs": [
    {
     "name": "stdout",
     "output_type": "stream",
     "text": [
      "Total SPF  286821.240609\n"
     ]
    }
   ],
   "source": [
    "total = total_spf + total_spf_trade\n",
    "\n",
    "print('Total SPF ', total)"
   ]
  },
  {
   "cell_type": "code",
   "execution_count": null,
   "metadata": {},
   "outputs": [],
   "source": [
    "import datetime\n",
    "\n",
    "\n",
    "now = datetime.datetime.now()\n",
    "date_time = now.strftime(\"%m/%d/%Y, %H:%M:%S\")"
   ]
  },
  {
   "cell_type": "code",
   "execution_count": null,
   "metadata": {},
   "outputs": [
    {
     "data": {
      "text/plain": [
       "<function TextIOWrapper.close()>"
      ]
     },
     "execution_count": 47,
     "metadata": {},
     "output_type": "execute_result"
    }
   ],
   "source": [
    "file = open(\"log.txt\", \"w\")\n",
    "file.write(\"now\" + date_time)\n",
    "file.write(str(total))\n",
    "file.close"
   ]
  },
  {
   "cell_type": "code",
   "execution_count": null,
   "metadata": {},
   "outputs": [
    {
     "data": {
      "text/plain": [
       "172086.897589"
      ]
     },
     "execution_count": 48,
     "metadata": {},
     "output_type": "execute_result"
    }
   ],
   "source": [
    "99583.15490699999 \n",
    "114353.499951\n",
    "128182.095462\n",
    "143197.96154299998\n",
    "156752.19453100002\n",
    "157149.656027\n",
    "157074.196677\n",
    "172086.897589\n"
   ]
  },
  {
   "cell_type": "code",
   "execution_count": null,
   "metadata": {},
   "outputs": [],
   "source": []
  }
 ],
 "metadata": {
  "kernelspec": {
   "display_name": "Python 3.10.5 64-bit",
   "language": "python",
   "name": "python3"
  },
  "language_info": {
   "codemirror_mode": {
    "name": "ipython",
    "version": 3
   },
   "file_extension": ".py",
   "mimetype": "text/x-python",
   "name": "python",
   "nbconvert_exporter": "python",
   "pygments_lexer": "ipython3",
   "version": "3.10.5"
  },
  "orig_nbformat": 4,
  "vscode": {
   "interpreter": {
    "hash": "aee8b7b246df8f9039afb4144a1f6fd8d2ca17a180786b69acc140d282b71a49"
   }
  }
 },
 "nbformat": 4,
 "nbformat_minor": 2
}
