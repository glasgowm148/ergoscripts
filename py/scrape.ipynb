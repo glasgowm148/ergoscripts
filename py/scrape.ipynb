{
 "cells": [
  {
   "cell_type": "code",
   "execution_count": 7,
   "metadata": {},
   "outputs": [],
   "source": [
    "#pip3 install wheel\n",
    "#pip3 install pandas\n",
    "#!pip3 install requests\n",
    "#!pip3 install seaborn\n",
    "import pandas as pd\n",
    "import requests\n",
    "pd.set_option('display.float_format', lambda x: '%.3f' % x)\n",
    "pd.options.display.max_rows = 999\n",
    "\n",
    "#!pip3 install seaborn\n",
    "import pandas as pd\n",
    "import numpy as np\n",
    "import seaborn as sns\n",
    "import matplotlib.pyplot as plt\n",
    "plt.rcParams['figure.figsize'] = (20.0, 10.0)"
   ]
  },
  {
   "cell_type": "code",
   "execution_count": 8,
   "metadata": {},
   "outputs": [
    {
     "name": "stdout",
     "output_type": "stream",
     "text": [
      "Total record: 65656\n",
      "0\n",
      "500\n",
      "1000\n"
     ]
    },
    {
     "ename": "KeyboardInterrupt",
     "evalue": "",
     "output_type": "error",
     "traceback": [
      "\u001b[0;31m---------------------------------------------------------------------------\u001b[0m",
      "\u001b[0;31mKeyboardInterrupt\u001b[0m                         Traceback (most recent call last)",
      "Cell \u001b[0;32mIn [8], line 14\u001b[0m\n\u001b[1;32m     12\u001b[0m \u001b[39mfor\u001b[39;00m offset \u001b[39min\u001b[39;00m \u001b[39mrange\u001b[39m(\u001b[39m0\u001b[39m,total_record,\u001b[39m500\u001b[39m):\n\u001b[1;32m     13\u001b[0m     url \u001b[39m=\u001b[39m \u001b[39m\"\u001b[39m\u001b[39mhttps://api.ergoplatform.com/api/v1/tokens?limit=500&offset=\u001b[39m\u001b[39m\"\u001b[39m\u001b[39m+\u001b[39m\u001b[39mstr\u001b[39m(offset)              \n\u001b[0;32m---> 14\u001b[0m     r \u001b[39m=\u001b[39m requests\u001b[39m.\u001b[39;49mget(url)      \n\u001b[1;32m     15\u001b[0m     json \u001b[39m=\u001b[39m r\u001b[39m.\u001b[39mjson() \n\u001b[1;32m     16\u001b[0m     all_items\u001b[39m.\u001b[39mappend(json)        \n",
      "File \u001b[0;32m~/Library/Python/3.9/lib/python/site-packages/requests/api.py:73\u001b[0m, in \u001b[0;36mget\u001b[0;34m(url, params, **kwargs)\u001b[0m\n\u001b[1;32m     62\u001b[0m \u001b[39mdef\u001b[39;00m \u001b[39mget\u001b[39m(url, params\u001b[39m=\u001b[39m\u001b[39mNone\u001b[39;00m, \u001b[39m*\u001b[39m\u001b[39m*\u001b[39mkwargs):\n\u001b[1;32m     63\u001b[0m     \u001b[39mr\u001b[39m\u001b[39m\"\"\"Sends a GET request.\u001b[39;00m\n\u001b[1;32m     64\u001b[0m \n\u001b[1;32m     65\u001b[0m \u001b[39m    :param url: URL for the new :class:`Request` object.\u001b[39;00m\n\u001b[0;32m   (...)\u001b[0m\n\u001b[1;32m     70\u001b[0m \u001b[39m    :rtype: requests.Response\u001b[39;00m\n\u001b[1;32m     71\u001b[0m \u001b[39m    \"\"\"\u001b[39;00m\n\u001b[0;32m---> 73\u001b[0m     \u001b[39mreturn\u001b[39;00m request(\u001b[39m\"\u001b[39;49m\u001b[39mget\u001b[39;49m\u001b[39m\"\u001b[39;49m, url, params\u001b[39m=\u001b[39;49mparams, \u001b[39m*\u001b[39;49m\u001b[39m*\u001b[39;49mkwargs)\n",
      "File \u001b[0;32m~/Library/Python/3.9/lib/python/site-packages/requests/api.py:59\u001b[0m, in \u001b[0;36mrequest\u001b[0;34m(method, url, **kwargs)\u001b[0m\n\u001b[1;32m     55\u001b[0m \u001b[39m# By using the 'with' statement we are sure the session is closed, thus we\u001b[39;00m\n\u001b[1;32m     56\u001b[0m \u001b[39m# avoid leaving sockets open which can trigger a ResourceWarning in some\u001b[39;00m\n\u001b[1;32m     57\u001b[0m \u001b[39m# cases, and look like a memory leak in others.\u001b[39;00m\n\u001b[1;32m     58\u001b[0m \u001b[39mwith\u001b[39;00m sessions\u001b[39m.\u001b[39mSession() \u001b[39mas\u001b[39;00m session:\n\u001b[0;32m---> 59\u001b[0m     \u001b[39mreturn\u001b[39;00m session\u001b[39m.\u001b[39;49mrequest(method\u001b[39m=\u001b[39;49mmethod, url\u001b[39m=\u001b[39;49murl, \u001b[39m*\u001b[39;49m\u001b[39m*\u001b[39;49mkwargs)\n",
      "File \u001b[0;32m~/Library/Python/3.9/lib/python/site-packages/requests/sessions.py:587\u001b[0m, in \u001b[0;36mSession.request\u001b[0;34m(self, method, url, params, data, headers, cookies, files, auth, timeout, allow_redirects, proxies, hooks, stream, verify, cert, json)\u001b[0m\n\u001b[1;32m    582\u001b[0m send_kwargs \u001b[39m=\u001b[39m {\n\u001b[1;32m    583\u001b[0m     \u001b[39m\"\u001b[39m\u001b[39mtimeout\u001b[39m\u001b[39m\"\u001b[39m: timeout,\n\u001b[1;32m    584\u001b[0m     \u001b[39m\"\u001b[39m\u001b[39mallow_redirects\u001b[39m\u001b[39m\"\u001b[39m: allow_redirects,\n\u001b[1;32m    585\u001b[0m }\n\u001b[1;32m    586\u001b[0m send_kwargs\u001b[39m.\u001b[39mupdate(settings)\n\u001b[0;32m--> 587\u001b[0m resp \u001b[39m=\u001b[39m \u001b[39mself\u001b[39;49m\u001b[39m.\u001b[39;49msend(prep, \u001b[39m*\u001b[39;49m\u001b[39m*\u001b[39;49msend_kwargs)\n\u001b[1;32m    589\u001b[0m \u001b[39mreturn\u001b[39;00m resp\n",
      "File \u001b[0;32m~/Library/Python/3.9/lib/python/site-packages/requests/sessions.py:745\u001b[0m, in \u001b[0;36mSession.send\u001b[0;34m(self, request, **kwargs)\u001b[0m\n\u001b[1;32m    742\u001b[0m         \u001b[39mpass\u001b[39;00m\n\u001b[1;32m    744\u001b[0m \u001b[39mif\u001b[39;00m \u001b[39mnot\u001b[39;00m stream:\n\u001b[0;32m--> 745\u001b[0m     r\u001b[39m.\u001b[39;49mcontent\n\u001b[1;32m    747\u001b[0m \u001b[39mreturn\u001b[39;00m r\n",
      "File \u001b[0;32m~/Library/Python/3.9/lib/python/site-packages/requests/models.py:899\u001b[0m, in \u001b[0;36mResponse.content\u001b[0;34m(self)\u001b[0m\n\u001b[1;32m    897\u001b[0m         \u001b[39mself\u001b[39m\u001b[39m.\u001b[39m_content \u001b[39m=\u001b[39m \u001b[39mNone\u001b[39;00m\n\u001b[1;32m    898\u001b[0m     \u001b[39melse\u001b[39;00m:\n\u001b[0;32m--> 899\u001b[0m         \u001b[39mself\u001b[39m\u001b[39m.\u001b[39m_content \u001b[39m=\u001b[39m \u001b[39mb\u001b[39;49m\u001b[39m\"\u001b[39;49m\u001b[39m\"\u001b[39;49m\u001b[39m.\u001b[39;49mjoin(\u001b[39mself\u001b[39;49m\u001b[39m.\u001b[39;49miter_content(CONTENT_CHUNK_SIZE)) \u001b[39mor\u001b[39;00m \u001b[39mb\u001b[39m\u001b[39m\"\u001b[39m\u001b[39m\"\u001b[39m\n\u001b[1;32m    901\u001b[0m \u001b[39mself\u001b[39m\u001b[39m.\u001b[39m_content_consumed \u001b[39m=\u001b[39m \u001b[39mTrue\u001b[39;00m\n\u001b[1;32m    902\u001b[0m \u001b[39m# don't need to release the connection; that's been handled by urllib3\u001b[39;00m\n\u001b[1;32m    903\u001b[0m \u001b[39m# since we exhausted the data.\u001b[39;00m\n",
      "File \u001b[0;32m~/Library/Python/3.9/lib/python/site-packages/requests/models.py:816\u001b[0m, in \u001b[0;36mResponse.iter_content.<locals>.generate\u001b[0;34m()\u001b[0m\n\u001b[1;32m    814\u001b[0m \u001b[39mif\u001b[39;00m \u001b[39mhasattr\u001b[39m(\u001b[39mself\u001b[39m\u001b[39m.\u001b[39mraw, \u001b[39m\"\u001b[39m\u001b[39mstream\u001b[39m\u001b[39m\"\u001b[39m):\n\u001b[1;32m    815\u001b[0m     \u001b[39mtry\u001b[39;00m:\n\u001b[0;32m--> 816\u001b[0m         \u001b[39myield from\u001b[39;00m \u001b[39mself\u001b[39m\u001b[39m.\u001b[39mraw\u001b[39m.\u001b[39mstream(chunk_size, decode_content\u001b[39m=\u001b[39m\u001b[39mTrue\u001b[39;00m)\n\u001b[1;32m    817\u001b[0m     \u001b[39mexcept\u001b[39;00m ProtocolError \u001b[39mas\u001b[39;00m e:\n\u001b[1;32m    818\u001b[0m         \u001b[39mraise\u001b[39;00m ChunkedEncodingError(e)\n",
      "File \u001b[0;32m~/Library/Python/3.9/lib/python/site-packages/urllib3/response.py:624\u001b[0m, in \u001b[0;36mHTTPResponse.stream\u001b[0;34m(self, amt, decode_content)\u001b[0m\n\u001b[1;32m    608\u001b[0m \u001b[39m\"\"\"\u001b[39;00m\n\u001b[1;32m    609\u001b[0m \u001b[39mA generator wrapper for the read() method. A call will block until\u001b[39;00m\n\u001b[1;32m    610\u001b[0m \u001b[39m``amt`` bytes have been read from the connection or until the\u001b[39;00m\n\u001b[0;32m   (...)\u001b[0m\n\u001b[1;32m    621\u001b[0m \u001b[39m    'content-encoding' header.\u001b[39;00m\n\u001b[1;32m    622\u001b[0m \u001b[39m\"\"\"\u001b[39;00m\n\u001b[1;32m    623\u001b[0m \u001b[39mif\u001b[39;00m \u001b[39mself\u001b[39m\u001b[39m.\u001b[39mchunked \u001b[39mand\u001b[39;00m \u001b[39mself\u001b[39m\u001b[39m.\u001b[39msupports_chunked_reads():\n\u001b[0;32m--> 624\u001b[0m     \u001b[39mfor\u001b[39;00m line \u001b[39min\u001b[39;00m \u001b[39mself\u001b[39m\u001b[39m.\u001b[39mread_chunked(amt, decode_content\u001b[39m=\u001b[39mdecode_content):\n\u001b[1;32m    625\u001b[0m         \u001b[39myield\u001b[39;00m line\n\u001b[1;32m    626\u001b[0m \u001b[39melse\u001b[39;00m:\n",
      "File \u001b[0;32m~/Library/Python/3.9/lib/python/site-packages/urllib3/response.py:828\u001b[0m, in \u001b[0;36mHTTPResponse.read_chunked\u001b[0;34m(self, amt, decode_content)\u001b[0m\n\u001b[1;32m    825\u001b[0m     \u001b[39mreturn\u001b[39;00m\n\u001b[1;32m    827\u001b[0m \u001b[39mwhile\u001b[39;00m \u001b[39mTrue\u001b[39;00m:\n\u001b[0;32m--> 828\u001b[0m     \u001b[39mself\u001b[39;49m\u001b[39m.\u001b[39;49m_update_chunk_length()\n\u001b[1;32m    829\u001b[0m     \u001b[39mif\u001b[39;00m \u001b[39mself\u001b[39m\u001b[39m.\u001b[39mchunk_left \u001b[39m==\u001b[39m \u001b[39m0\u001b[39m:\n\u001b[1;32m    830\u001b[0m         \u001b[39mbreak\u001b[39;00m\n",
      "File \u001b[0;32m~/Library/Python/3.9/lib/python/site-packages/urllib3/response.py:758\u001b[0m, in \u001b[0;36mHTTPResponse._update_chunk_length\u001b[0;34m(self)\u001b[0m\n\u001b[1;32m    756\u001b[0m \u001b[39mif\u001b[39;00m \u001b[39mself\u001b[39m\u001b[39m.\u001b[39mchunk_left \u001b[39mis\u001b[39;00m \u001b[39mnot\u001b[39;00m \u001b[39mNone\u001b[39;00m:\n\u001b[1;32m    757\u001b[0m     \u001b[39mreturn\u001b[39;00m\n\u001b[0;32m--> 758\u001b[0m line \u001b[39m=\u001b[39m \u001b[39mself\u001b[39;49m\u001b[39m.\u001b[39;49m_fp\u001b[39m.\u001b[39;49mfp\u001b[39m.\u001b[39;49mreadline()\n\u001b[1;32m    759\u001b[0m line \u001b[39m=\u001b[39m line\u001b[39m.\u001b[39msplit(\u001b[39mb\u001b[39m\u001b[39m\"\u001b[39m\u001b[39m;\u001b[39m\u001b[39m\"\u001b[39m, \u001b[39m1\u001b[39m)[\u001b[39m0\u001b[39m]\n\u001b[1;32m    760\u001b[0m \u001b[39mtry\u001b[39;00m:\n",
      "File \u001b[0;32m/Library/Developer/CommandLineTools/Library/Frameworks/Python3.framework/Versions/3.9/lib/python3.9/socket.py:704\u001b[0m, in \u001b[0;36mSocketIO.readinto\u001b[0;34m(self, b)\u001b[0m\n\u001b[1;32m    702\u001b[0m \u001b[39mwhile\u001b[39;00m \u001b[39mTrue\u001b[39;00m:\n\u001b[1;32m    703\u001b[0m     \u001b[39mtry\u001b[39;00m:\n\u001b[0;32m--> 704\u001b[0m         \u001b[39mreturn\u001b[39;00m \u001b[39mself\u001b[39;49m\u001b[39m.\u001b[39;49m_sock\u001b[39m.\u001b[39;49mrecv_into(b)\n\u001b[1;32m    705\u001b[0m     \u001b[39mexcept\u001b[39;00m timeout:\n\u001b[1;32m    706\u001b[0m         \u001b[39mself\u001b[39m\u001b[39m.\u001b[39m_timeout_occurred \u001b[39m=\u001b[39m \u001b[39mTrue\u001b[39;00m\n",
      "File \u001b[0;32m/Library/Developer/CommandLineTools/Library/Frameworks/Python3.framework/Versions/3.9/lib/python3.9/ssl.py:1241\u001b[0m, in \u001b[0;36mSSLSocket.recv_into\u001b[0;34m(self, buffer, nbytes, flags)\u001b[0m\n\u001b[1;32m   1237\u001b[0m     \u001b[39mif\u001b[39;00m flags \u001b[39m!=\u001b[39m \u001b[39m0\u001b[39m:\n\u001b[1;32m   1238\u001b[0m         \u001b[39mraise\u001b[39;00m \u001b[39mValueError\u001b[39;00m(\n\u001b[1;32m   1239\u001b[0m           \u001b[39m\"\u001b[39m\u001b[39mnon-zero flags not allowed in calls to recv_into() on \u001b[39m\u001b[39m%s\u001b[39;00m\u001b[39m\"\u001b[39m \u001b[39m%\u001b[39m\n\u001b[1;32m   1240\u001b[0m           \u001b[39mself\u001b[39m\u001b[39m.\u001b[39m\u001b[39m__class__\u001b[39m)\n\u001b[0;32m-> 1241\u001b[0m     \u001b[39mreturn\u001b[39;00m \u001b[39mself\u001b[39;49m\u001b[39m.\u001b[39;49mread(nbytes, buffer)\n\u001b[1;32m   1242\u001b[0m \u001b[39melse\u001b[39;00m:\n\u001b[1;32m   1243\u001b[0m     \u001b[39mreturn\u001b[39;00m \u001b[39msuper\u001b[39m()\u001b[39m.\u001b[39mrecv_into(buffer, nbytes, flags)\n",
      "File \u001b[0;32m/Library/Developer/CommandLineTools/Library/Frameworks/Python3.framework/Versions/3.9/lib/python3.9/ssl.py:1099\u001b[0m, in \u001b[0;36mSSLSocket.read\u001b[0;34m(self, len, buffer)\u001b[0m\n\u001b[1;32m   1097\u001b[0m \u001b[39mtry\u001b[39;00m:\n\u001b[1;32m   1098\u001b[0m     \u001b[39mif\u001b[39;00m buffer \u001b[39mis\u001b[39;00m \u001b[39mnot\u001b[39;00m \u001b[39mNone\u001b[39;00m:\n\u001b[0;32m-> 1099\u001b[0m         \u001b[39mreturn\u001b[39;00m \u001b[39mself\u001b[39;49m\u001b[39m.\u001b[39;49m_sslobj\u001b[39m.\u001b[39;49mread(\u001b[39mlen\u001b[39;49m, buffer)\n\u001b[1;32m   1100\u001b[0m     \u001b[39melse\u001b[39;00m:\n\u001b[1;32m   1101\u001b[0m         \u001b[39mreturn\u001b[39;00m \u001b[39mself\u001b[39m\u001b[39m.\u001b[39m_sslobj\u001b[39m.\u001b[39mread(\u001b[39mlen\u001b[39m)\n",
      "\u001b[0;31mKeyboardInterrupt\u001b[0m: "
     ]
    }
   ],
   "source": [
    "# find out total number of pages\n",
    "i = 5\n",
    "url = 'https://api.ergoplatform.com/api/v1/tokens?limit=500&offset=' + str(i)\n",
    "r = requests.get(url)\n",
    "json = r.json()\n",
    "total_record = int(json['total'])\n",
    "print(\"Total record: \" +str(total_record))\n",
    "\n",
    "# results will be appended to this list\n",
    "all_items = []\n",
    "\n",
    "for offset in range(0,total_record,500):\n",
    "    url = \"https://api.ergoplatform.com/api/v1/tokens?limit=500&offset=\"+str(offset)              \n",
    "    r = requests.get(url)      \n",
    "    json = r.json() \n",
    "    all_items.append(json)        \n",
    "    print(offset)"
   ]
  },
  {
   "cell_type": "code",
   "execution_count": null,
   "metadata": {},
   "outputs": [
    {
     "data": {
      "text/html": [
       "<div>\n",
       "<style scoped>\n",
       "    .dataframe tbody tr th:only-of-type {\n",
       "        vertical-align: middle;\n",
       "    }\n",
       "\n",
       "    .dataframe tbody tr th {\n",
       "        vertical-align: top;\n",
       "    }\n",
       "\n",
       "    .dataframe thead th {\n",
       "        text-align: right;\n",
       "    }\n",
       "</style>\n",
       "<table border=\"1\" class=\"dataframe\">\n",
       "  <thead>\n",
       "    <tr style=\"text-align: right;\">\n",
       "      <th></th>\n",
       "      <th>id</th>\n",
       "      <th>name</th>\n",
       "      <th>description</th>\n",
       "    </tr>\n",
       "  </thead>\n",
       "  <tbody>\n",
       "    <tr>\n",
       "      <th>44</th>\n",
       "      <td>568baae2b650babc731c466ff8a92bfb68e483209cab3c...</td>\n",
       "      <td>ergopad Stake Key</td>\n",
       "      <td>{\"originalAmountStaked\": 8161.87, \"stakeTime\":...</td>\n",
       "    </tr>\n",
       "    <tr>\n",
       "      <th>51</th>\n",
       "      <td>7f4039e64cb0562174dbd23f8073823eb04446ec37a91f...</td>\n",
       "      <td>ergopad Stake Key</td>\n",
       "      <td>{\"originalAmountStaked\": 124.0, \"stakeTime\": \"...</td>\n",
       "    </tr>\n",
       "    <tr>\n",
       "      <th>52</th>\n",
       "      <td>bab3a860046627f90c487aefa9c34c693332a510f50c12...</td>\n",
       "      <td>ergopad Stake Key</td>\n",
       "      <td>{\"originalAmountStaked\": 126.16, \"stakeTime\": ...</td>\n",
       "    </tr>\n",
       "    <tr>\n",
       "      <th>53</th>\n",
       "      <td>1814b1292acc057afdacc58330fa0f4ae77b7395eb49a9...</td>\n",
       "      <td>ergopad Stake Key</td>\n",
       "      <td>{\"originalAmountStaked\": 58.79, \"stakeTime\": \"...</td>\n",
       "    </tr>\n",
       "    <tr>\n",
       "      <th>54</th>\n",
       "      <td>ad451df3dfcd1d31d080af0dc0ae58a918231c34556399...</td>\n",
       "      <td>ergopad Stake Key</td>\n",
       "      <td>{\"originalAmountStaked\": 657.72, \"stakeTime\": ...</td>\n",
       "    </tr>\n",
       "  </tbody>\n",
       "</table>\n",
       "</div>"
      ],
      "text/plain": [
       "                                                   id               name  \\\n",
       "44  568baae2b650babc731c466ff8a92bfb68e483209cab3c...  ergopad Stake Key   \n",
       "51  7f4039e64cb0562174dbd23f8073823eb04446ec37a91f...  ergopad Stake Key   \n",
       "52  bab3a860046627f90c487aefa9c34c693332a510f50c12...  ergopad Stake Key   \n",
       "53  1814b1292acc057afdacc58330fa0f4ae77b7395eb49a9...  ergopad Stake Key   \n",
       "54  ad451df3dfcd1d31d080af0dc0ae58a918231c34556399...  ergopad Stake Key   \n",
       "\n",
       "                                          description  \n",
       "44  {\"originalAmountStaked\": 8161.87, \"stakeTime\":...  \n",
       "51  {\"originalAmountStaked\": 124.0, \"stakeTime\": \"...  \n",
       "52  {\"originalAmountStaked\": 126.16, \"stakeTime\": ...  \n",
       "53  {\"originalAmountStaked\": 58.79, \"stakeTime\": \"...  \n",
       "54  {\"originalAmountStaked\": 657.72, \"stakeTime\": ...  "
      ]
     },
     "execution_count": 525,
     "metadata": {},
     "output_type": "execute_result"
    }
   ],
   "source": [
    "from pandas import json_normalize\n",
    "import json\n",
    "\n",
    "# normalise the data\n",
    "df = json_normalize(all_items,\"items\",['items'])\n",
    "\n",
    "# drop unwanted columns \n",
    "df = df.drop(['emissionAmount', 'type', 'decimals', 'boxId', 'items' ],axis =1)\n",
    "\n",
    "# keep only stake-keys\n",
    "df = df[df.name.str.contains(\"ergopad Stake Key\").fillna(False)]\n",
    "\n",
    "# for investigating parsing errors \n",
    "# df.to_csv(\"to_fix.csv\", index=False)\n",
    "\n",
    "df.head()\n"
   ]
  },
  {
   "cell_type": "code",
   "execution_count": null,
   "metadata": {},
   "outputs": [
    {
     "data": {
      "text/plain": [
       "id                      1243\n",
       "name                    1243\n",
       "originalAmountStaked    1243\n",
       "stakeTime               1243\n",
       "dtype: int64"
      ]
     },
     "execution_count": 526,
     "metadata": {},
     "output_type": "execute_result"
    }
   ],
   "source": [
    "#df = pd.read_csv(\"to_fix.csv\")\n",
    "\n",
    "# drop 5 problematic rows at end with different format\n",
    "df.drop(df.tail(5).index,inplace=True)\n",
    "\n",
    "# Map JSON in 'description' column to new columns\n",
    "df[['originalAmountStaked','stakeTime']]=df['description'].map(eval).apply(pd.Series)\n",
    "\n",
    "# Drop unwanted column\n",
    "df = df.drop(['description' ],axis =1)\n",
    "\n",
    "# How many stake keys do we have? \n",
    "df.count()\n"
   ]
  },
  {
   "cell_type": "code",
   "execution_count": null,
   "metadata": {},
   "outputs": [],
   "source": [
    "#pd.reset_option('all')"
   ]
  },
  {
   "cell_type": "code",
   "execution_count": null,
   "metadata": {},
   "outputs": [
    {
     "data": {
      "text/html": [
       "<div>\n",
       "<style scoped>\n",
       "    .dataframe tbody tr th:only-of-type {\n",
       "        vertical-align: middle;\n",
       "    }\n",
       "\n",
       "    .dataframe tbody tr th {\n",
       "        vertical-align: top;\n",
       "    }\n",
       "\n",
       "    .dataframe thead th {\n",
       "        text-align: right;\n",
       "    }\n",
       "</style>\n",
       "<table border=\"1\" class=\"dataframe\">\n",
       "  <thead>\n",
       "    <tr style=\"text-align: right;\">\n",
       "      <th></th>\n",
       "      <th>id</th>\n",
       "      <th>name</th>\n",
       "      <th>originalAmountStaked</th>\n",
       "      <th>stakeTime</th>\n",
       "    </tr>\n",
       "  </thead>\n",
       "  <tbody>\n",
       "    <tr>\n",
       "      <th>2645</th>\n",
       "      <td>db1f54e1aa84d16756e64bef71362f0d6bc0ee18af25a6...</td>\n",
       "      <td>ergopad Stake Key</td>\n",
       "      <td>3010641.930</td>\n",
       "      <td>2022-02-27 21:30:27.412025</td>\n",
       "    </tr>\n",
       "    <tr>\n",
       "      <th>2016</th>\n",
       "      <td>d547395c05dde733b75b6a35517a958915555a199d0b65...</td>\n",
       "      <td>ergopad Stake Key</td>\n",
       "      <td>1000000.000</td>\n",
       "      <td>2022-03-01 17:48:02.340470</td>\n",
       "    </tr>\n",
       "    <tr>\n",
       "      <th>1766</th>\n",
       "      <td>147b2789ed1f2a0e60ab325c0bddae94a08a1c6dd23d50...</td>\n",
       "      <td>ergopad Stake Key</td>\n",
       "      <td>1000000.000</td>\n",
       "      <td>2022-03-03 22:43:04.496828</td>\n",
       "    </tr>\n",
       "    <tr>\n",
       "      <th>2017</th>\n",
       "      <td>7c0d1d22e0f366a048519357281bd13bbe8e7320665bc1...</td>\n",
       "      <td>ergopad Stake Key</td>\n",
       "      <td>1000000.000</td>\n",
       "      <td>2022-03-01 17:40:58.156367</td>\n",
       "    </tr>\n",
       "    <tr>\n",
       "      <th>2458</th>\n",
       "      <td>cb8cf1cf971177767b7429241353576643e8efe88cc0e1...</td>\n",
       "      <td>ergopad Stake Key</td>\n",
       "      <td>666666.000</td>\n",
       "      <td>2022-02-28 02:16:20.097260</td>\n",
       "    </tr>\n",
       "    <tr>\n",
       "      <th>2472</th>\n",
       "      <td>85844a18657774dd430d6e8d7cd90f6ec9b50ef166a8ff...</td>\n",
       "      <td>ergopad Stake Key</td>\n",
       "      <td>535353.320</td>\n",
       "      <td>2022-02-28 01:45:08.015809</td>\n",
       "    </tr>\n",
       "    <tr>\n",
       "      <th>2638</th>\n",
       "      <td>6de153bbeb2cddc08229c36100c2097a23147d43d5bcd5...</td>\n",
       "      <td>ergopad Stake Key</td>\n",
       "      <td>500634.660</td>\n",
       "      <td>2022-02-27 21:59:55.880988</td>\n",
       "    </tr>\n",
       "    <tr>\n",
       "      <th>2436</th>\n",
       "      <td>f769be443e4715ecb09ab8f5a449b304b7cda01f66bf1a...</td>\n",
       "      <td>ergopad Stake Key</td>\n",
       "      <td>500005.590</td>\n",
       "      <td>2022-02-28 03:29:07.472945</td>\n",
       "    </tr>\n",
       "    <tr>\n",
       "      <th>2457</th>\n",
       "      <td>cfccf46a40bc25bd345eb8f429dc3addabbb296fa29a98...</td>\n",
       "      <td>ergopad Stake Key</td>\n",
       "      <td>444426.660</td>\n",
       "      <td>2022-02-28 02:19:29.607355</td>\n",
       "    </tr>\n",
       "    <tr>\n",
       "      <th>2648</th>\n",
       "      <td>7a41e485cbab1822839983765bb0b7b884782fd7b3ad5f...</td>\n",
       "      <td>ergopad Stake Key</td>\n",
       "      <td>429807.950</td>\n",
       "      <td>2022-02-27 20:46:58.995302</td>\n",
       "    </tr>\n",
       "  </tbody>\n",
       "</table>\n",
       "</div>"
      ],
      "text/plain": [
       "                                                     id               name  \\\n",
       "2645  db1f54e1aa84d16756e64bef71362f0d6bc0ee18af25a6...  ergopad Stake Key   \n",
       "2016  d547395c05dde733b75b6a35517a958915555a199d0b65...  ergopad Stake Key   \n",
       "1766  147b2789ed1f2a0e60ab325c0bddae94a08a1c6dd23d50...  ergopad Stake Key   \n",
       "2017  7c0d1d22e0f366a048519357281bd13bbe8e7320665bc1...  ergopad Stake Key   \n",
       "2458  cb8cf1cf971177767b7429241353576643e8efe88cc0e1...  ergopad Stake Key   \n",
       "2472  85844a18657774dd430d6e8d7cd90f6ec9b50ef166a8ff...  ergopad Stake Key   \n",
       "2638  6de153bbeb2cddc08229c36100c2097a23147d43d5bcd5...  ergopad Stake Key   \n",
       "2436  f769be443e4715ecb09ab8f5a449b304b7cda01f66bf1a...  ergopad Stake Key   \n",
       "2457  cfccf46a40bc25bd345eb8f429dc3addabbb296fa29a98...  ergopad Stake Key   \n",
       "2648  7a41e485cbab1822839983765bb0b7b884782fd7b3ad5f...  ergopad Stake Key   \n",
       "\n",
       "      originalAmountStaked                   stakeTime  \n",
       "2645           3010641.930  2022-02-27 21:30:27.412025  \n",
       "2016           1000000.000  2022-03-01 17:48:02.340470  \n",
       "1766           1000000.000  2022-03-03 22:43:04.496828  \n",
       "2017           1000000.000  2022-03-01 17:40:58.156367  \n",
       "2458            666666.000  2022-02-28 02:16:20.097260  \n",
       "2472            535353.320  2022-02-28 01:45:08.015809  \n",
       "2638            500634.660  2022-02-27 21:59:55.880988  \n",
       "2436            500005.590  2022-02-28 03:29:07.472945  \n",
       "2457            444426.660  2022-02-28 02:19:29.607355  \n",
       "2648            429807.950  2022-02-27 20:46:58.995302  "
      ]
     },
     "execution_count": 528,
     "metadata": {},
     "output_type": "execute_result"
    }
   ],
   "source": [
    "# sort by amount staked\n",
    "df.sort_values(by=['originalAmountStaked'],inplace=True, ascending=False)\n",
    "\n",
    "# save to .csv\n",
    "df.to_csv(\"stakers.csv\", index=False)\n",
    "\n",
    "# Display rich-list\n",
    "df.head(10)"
   ]
  },
  {
   "cell_type": "code",
   "execution_count": null,
   "metadata": {},
   "outputs": [
    {
     "data": {
      "text/plain": [
       "<seaborn.axisgrid.FacetGrid at 0x2a21ef610>"
      ]
     },
     "execution_count": 529,
     "metadata": {},
     "output_type": "execute_result"
    },
    {
     "data": {
      "image/png": "[encoded data removed]",
      "text/plain": [
       "<Figure size 360x360 with 1 Axes>"
      ]
     },
     "metadata": {
      "needs_background": "light"
     },
     "output_type": "display_data"
    }
   ],
   "source": [
    "# Plotting\n",
    "\n",
    "#sns.jointplot(x=df['original'], y=df['time'], data=df, kind='reg')\n",
    "\n",
    "#df.hist()\n",
    "\n",
    "#sns.catplot(x=\"date\", y=\"original\", jitter=False, data=df)\n",
    "#sns.catplot(x=\"original\", y=\"date\", hue=\"time\", kind=\"swarm\", data=df)\n",
    "\n",
    "# Grab just the date\n",
    "df['date'] = df['stakeTime'].str.slice(0,10)\n",
    "\n",
    "\n",
    "#df['date'] = pd.to_datetime(df['date'])\n",
    "#df['date'] = df['date'].astype('datetime64[ns]')\n",
    "\n",
    "# Plot \n",
    "sns.catplot(x=\"originalAmountStaked\", y=\"date\",  data=df)\n",
    "\n"
   ]
  },
  {
   "cell_type": "code",
   "execution_count": null,
   "metadata": {},
   "outputs": [
    {
     "data": {
      "text/plain": [
       "<seaborn.axisgrid.FacetGrid at 0x2a41da910>"
      ]
     },
     "execution_count": 530,
     "metadata": {},
     "output_type": "execute_result"
    },
    {
     "data": {
      "image/png": "[encoded data removed]",
      "text/plain": [
       "<Figure size 360x360 with 1 Axes>"
      ]
     },
     "metadata": {
      "needs_background": "light"
     },
     "output_type": "display_data"
    }
   ],
   "source": [
    "# violin plot\n",
    "sns.catplot(x=\"date\", y=\"originalAmountStaked\", hue=\"date\",\n",
    "            kind=\"violin\", data=df)"
   ]
  },
  {
   "cell_type": "code",
   "execution_count": null,
   "metadata": {},
   "outputs": [
    {
     "data": {
      "text/html": [
       "<div>\n",
       "<style scoped>\n",
       "    .dataframe tbody tr th:only-of-type {\n",
       "        vertical-align: middle;\n",
       "    }\n",
       "\n",
       "    .dataframe tbody tr th {\n",
       "        vertical-align: top;\n",
       "    }\n",
       "\n",
       "    .dataframe thead th {\n",
       "        text-align: right;\n",
       "    }\n",
       "</style>\n",
       "<table border=\"1\" class=\"dataframe\">\n",
       "  <thead>\n",
       "    <tr style=\"text-align: right;\">\n",
       "      <th></th>\n",
       "      <th>id</th>\n",
       "      <th>name</th>\n",
       "      <th>originalAmountStaked</th>\n",
       "      <th>stakeTime</th>\n",
       "      <th>date</th>\n",
       "    </tr>\n",
       "  </thead>\n",
       "  <tbody>\n",
       "    <tr>\n",
       "      <th>2645</th>\n",
       "      <td>db1f54e1aa84d16756e64bef71362f0d6bc0ee18af25a6...</td>\n",
       "      <td>ergopad Stake Key</td>\n",
       "      <td>3010641.930</td>\n",
       "      <td>2022-02-27 21:30:27.412025</td>\n",
       "      <td>2022-02-27</td>\n",
       "    </tr>\n",
       "    <tr>\n",
       "      <th>2458</th>\n",
       "      <td>cb8cf1cf971177767b7429241353576643e8efe88cc0e1...</td>\n",
       "      <td>ergopad Stake Key</td>\n",
       "      <td>666666.000</td>\n",
       "      <td>2022-02-28 02:16:20.097260</td>\n",
       "      <td>2022-02-28</td>\n",
       "    </tr>\n",
       "    <tr>\n",
       "      <th>2472</th>\n",
       "      <td>85844a18657774dd430d6e8d7cd90f6ec9b50ef166a8ff...</td>\n",
       "      <td>ergopad Stake Key</td>\n",
       "      <td>535353.320</td>\n",
       "      <td>2022-02-28 01:45:08.015809</td>\n",
       "      <td>2022-02-28</td>\n",
       "    </tr>\n",
       "    <tr>\n",
       "      <th>2638</th>\n",
       "      <td>6de153bbeb2cddc08229c36100c2097a23147d43d5bcd5...</td>\n",
       "      <td>ergopad Stake Key</td>\n",
       "      <td>500634.660</td>\n",
       "      <td>2022-02-27 21:59:55.880988</td>\n",
       "      <td>2022-02-27</td>\n",
       "    </tr>\n",
       "  </tbody>\n",
       "</table>\n",
       "</div>"
      ],
      "text/plain": [
       "                                                     id               name  \\\n",
       "2645  db1f54e1aa84d16756e64bef71362f0d6bc0ee18af25a6...  ergopad Stake Key   \n",
       "2458  cb8cf1cf971177767b7429241353576643e8efe88cc0e1...  ergopad Stake Key   \n",
       "2472  85844a18657774dd430d6e8d7cd90f6ec9b50ef166a8ff...  ergopad Stake Key   \n",
       "2638  6de153bbeb2cddc08229c36100c2097a23147d43d5bcd5...  ergopad Stake Key   \n",
       "\n",
       "      originalAmountStaked                   stakeTime        date  \n",
       "2645           3010641.930  2022-02-27 21:30:27.412025  2022-02-27  \n",
       "2458            666666.000  2022-02-28 02:16:20.097260  2022-02-28  \n",
       "2472            535353.320  2022-02-28 01:45:08.015809  2022-02-28  \n",
       "2638            500634.660  2022-02-27 21:59:55.880988  2022-02-27  "
      ]
     },
     "execution_count": 531,
     "metadata": {},
     "output_type": "execute_result"
    }
   ],
   "source": [
    "# trimming top 4 \n",
    "\n",
    "# df_trim = df.iloc[:4 , :]\n",
    "\n",
    "df_trim = df.drop(df[df.originalAmountStaked == 1000000.000].index)\n",
    "\n",
    "df_trim.head(4)"
   ]
  },
  {
   "cell_type": "code",
   "execution_count": null,
   "metadata": {},
   "outputs": [
    {
     "data": {
      "text/plain": [
       "<seaborn.axisgrid.FacetGrid at 0x2a23b4c40>"
      ]
     },
     "execution_count": 532,
     "metadata": {},
     "output_type": "execute_result"
    },
    {
     "data": {
      "image/png": "[encoded data removed]",
      "text/plain": [
       "<Figure size 360x360 with 1 Axes>"
      ]
     },
     "metadata": {
      "needs_background": "light"
     },
     "output_type": "display_data"
    }
   ],
   "source": [
    "# Distribution without the top 4 \n",
    "sns.catplot(x=\"originalAmountStaked\", y=\"date\",  data=df_trim)"
   ]
  }
 ],
 "metadata": {
  "kernelspec": {
   "display_name": "Python 3.9.6 64-bit",
   "language": "python",
   "name": "python3"
  },
  "language_info": {
   "codemirror_mode": {
    "name": "ipython",
    "version": 3
   },
   "file_extension": ".py",
   "mimetype": "text/x-python",
   "name": "python",
   "nbconvert_exporter": "python",
   "pygments_lexer": "ipython3",
   "version": "3.-1.-1"
  },
  "orig_nbformat": 4,
  "vscode": {
   "interpreter": {
    "hash": "31f2aee4e71d21fbe5cf8b01ff0e069b9275f58929596ceb00d14d90e3e16cd6"
   }
  }
 },
 "nbformat": 4,
 "nbformat_minor": 2
}
